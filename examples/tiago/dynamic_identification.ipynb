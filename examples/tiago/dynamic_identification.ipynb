{
 "cells": [
  {
   "cell_type": "markdown",
   "id": "4d1dace7",
   "metadata": {},
   "source": [
    "# Dynamic Parameter Identification\n",
    "\n",
    "This notebook demonstrates dynamic parameter identification for the Tiago robot."
   ]
  },
  {
   "cell_type": "code",
   "execution_count": null,
   "id": "23efbdbc",
   "metadata": {},
   "outputs": [],
   "source": [
    "from os.path import abspath\n",
    "import yaml\n",
    "from yaml.loader import SafeLoader\n",
    "from utils.tiago_tools import load_robot\n",
    "from identification import TiagoIdentification"
   ]
  },
  {
   "cell_type": "code",
   "execution_count": null,
   "id": "f71b2b53",
   "metadata": {},
   "outputs": [],
   "source": [
    "# Load robot model and initialize identification\n",
    "robot = load_robot(abspath(\"urdf/tiago_48_schunk.urdf\"), load_by_urdf=True)\n",
    "TiagoIden = TiagoIdentification(robot, \"config/tiago_config.yaml\")\n",
    "\n",
    "# Define parameters\n",
    "ps = TiagoIden.params_settings\n",
    "ps[\"reduction_ratio\"] = {\n",
    "    \"torso_lift_joint\": 1,\n",
    "    \"arm_1_joint\": 100,\n",
    "    \"arm_2_joint\": 100,\n",
    "    \"arm_3_joint\": 100,\n",
    "    \"arm_4_joint\": 100,\n",
    "    \"arm_5_joint\": 336,\n",
    "    \"arm_6_joint\": 336,\n",
    "    \"arm_7_joint\": 336\n",
    "}\n",
    "\n",
    "ps[\"kmotor\"] = {\n",
    "    \"torso_lift_joint\": 1,\n",
    "    \"arm_1_joint\": 0.136,\n",
    "    \"arm_2_joint\": 0.136,\n",
    "    \"arm_3_joint\": -0.087,\n",
    "    \"arm_4_joint\": -0.087,\n",
    "    \"arm_5_joint\": -0.0613,\n",
    "    \"arm_6_joint\": -0.0613,\n",
    "    \"arm_7_joint\": -0.0613\n",
    "}\n",
    "\n",
    "ps[\"active_joints\"] = [\n",
    "    \"torso_lift_joint\",\n",
    "    \"arm_1_joint\",\n",
    "    \"arm_2_joint\",\n",
    "    \"arm_3_joint\",\n",
    "    \"arm_4_joint\",\n",
    "    \"arm_5_joint\",\n",
    "    \"arm_6_joint\",\n",
    "    \"arm_7_joint\"\n",
    "]\n",
    "\n",
    "ps[\"act_Jid\"] = [TiagoIden.model.getJointId(i) for i in ps[\"active_joints\"]]\n",
    "ps[\"act_J\"] = [TiagoIden.model.joints[jid] for jid in ps[\"act_Jid\"]]\n",
    "ps[\"act_idxq\"] = [J.idx_q for J in ps[\"act_J\"]]\n",
    "ps[\"act_idxv\"] = [J.idx_v for J in ps[\"act_J\"]]\n",
    "\n",
    "ps[\"pos_data\"] = \"data/identification/dynamic/tiago_position.csv\"\n",
    "ps[\"vel_data\"] = \"data/identification/dynamic/tiago_velocity.csv\"\n",
    "ps[\"torque_data\"] = \"data/identification/dynamic/tiago_effort.csv\""
   ]
  },
  {
   "cell_type": "code",
   "execution_count": null,
   "id": "a563980e",
   "metadata": {},
   "outputs": [],
   "source": [
    "# Run identification\n",
    "TiagoIden.solve(\n",
    "    truncate=True,\n",
    "    decimate=True,\n",
    "    plotting=True,\n",
    "    save_params=False\n",
    ")\n",
    "\n",
    "# Display results\n",
    "for key, value in TiagoIden.result.items():\n",
    "    print(f\"{key} : {value}\")"
   ]
  }
 ],
 "metadata": {
  "language_info": {
   "name": "python"
  }
 },
 "nbformat": 4,
 "nbformat_minor": 5
}
